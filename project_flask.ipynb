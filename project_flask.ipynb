{
 "cells": [
  {
   "cell_type": "code",
   "execution_count": null,
   "id": "b4b77132-d435-440d-8e72-3f4a435770ce",
   "metadata": {},
   "outputs": [
    {
     "name": "stdout",
     "output_type": "stream",
     "text": [
      "WARNING:tensorflow:From C:\\Users\\smhrd1\\anaconda3\\Lib\\site-packages\\tf_keras\\src\\losses.py:2976: The name tf.losses.sparse_softmax_cross_entropy is deprecated. Please use tf.compat.v1.losses.sparse_softmax_cross_entropy instead.\n",
      "\n",
      " * Serving Flask app '__main__'\n",
      " * Debug mode: off\n"
     ]
    },
    {
     "name": "stderr",
     "output_type": "stream",
     "text": [
      "WARNING: This is a development server. Do not use it in a production deployment. Use a production WSGI server instead.\n",
      " * Running on http://192.168.219.62:5050\n",
      "Press CTRL+C to quit\n",
      "192.168.219.62 - - [28/Jun/2024 16:50:44] \"GET / HTTP/1.1\" 404 -\n",
      "192.168.219.62 - - [28/Jun/2024 16:50:44] \"GET /favicon.ico HTTP/1.1\" 404 -\n",
      "192.168.219.62 - - [28/Jun/2024 16:50:48] \"GET /test HTTP/1.1\" 404 -\n",
      "[2024-06-28 16:50:52,619] ERROR in app: Exception on /mosaic [GET]\n",
      "Traceback (most recent call last):\n",
      "  File \"C:\\Users\\smhrd1\\anaconda3\\Lib\\site-packages\\flask\\app.py\", line 2529, in wsgi_app\n",
      "    response = self.full_dispatch_request()\n",
      "               ^^^^^^^^^^^^^^^^^^^^^^^^^^^^\n",
      "  File \"C:\\Users\\smhrd1\\anaconda3\\Lib\\site-packages\\flask\\app.py\", line 1825, in full_dispatch_request\n",
      "    rv = self.handle_user_exception(e)\n",
      "         ^^^^^^^^^^^^^^^^^^^^^^^^^^^^^\n",
      "  File \"C:\\Users\\smhrd1\\anaconda3\\Lib\\site-packages\\flask_cors\\extension.py\", line 178, in wrapped_function\n",
      "    return cors_after_request(app.make_response(f(*args, **kwargs)))\n",
      "                                                ^^^^^^^^^^^^^^^^^^\n",
      "  File \"C:\\Users\\smhrd1\\anaconda3\\Lib\\site-packages\\flask\\app.py\", line 1823, in full_dispatch_request\n",
      "    rv = self.dispatch_request()\n",
      "         ^^^^^^^^^^^^^^^^^^^^^^^\n",
      "  File \"C:\\Users\\smhrd1\\anaconda3\\Lib\\site-packages\\flask\\app.py\", line 1799, in dispatch_request\n",
      "    return self.ensure_sync(self.view_functions[rule.endpoint])(**view_args)\n",
      "           ^^^^^^^^^^^^^^^^^^^^^^^^^^^^^^^^^^^^^^^^^^^^^^^^^^^^^^^^^^^^^^^^^\n",
      "  File \"C:\\Users\\smhrd1\\AppData\\Local\\Temp\\ipykernel_14212\\1782581119.py\", line 26, in test\n",
      "    image_path = f'C:/Users/smhrd1/Desktop/Web_jsp/.metadata/.plugins/org.eclipse.wst.server.core/tmp0/wtpwebapps/goming123/images/{data[\"img\"]}'\n",
      "                                                                                                                                    ~~~~^^^^^^^\n",
      "KeyError: 'img'\n",
      "192.168.219.62 - - [28/Jun/2024 16:50:52] \"GET /mosaic HTTP/1.1\" 500 -\n"
     ]
    }
   ],
   "source": [
    "# 플라스크 통신을 위한 라이브러리\n",
    "from flask import Flask, request, jsonify, redirect\n",
    "from flask_cors import CORS\n",
    "\n",
    "# 얼굴 인식을 위한 라이브러리\n",
    "from deepface import DeepFace\n",
    "\n",
    "# 얼굴 모자이크 처리를 위한 라이브러리\n",
    "import cv2\n",
    "import numpy as np\n",
    "import base64\n",
    "\n",
    "# 플라스크 통신 시작\n",
    "app = Flask( __name__ )\n",
    "CORS( app )\n",
    "\n",
    "@app.route( \"/mosaic\", methods = [ \"GET\", \"POST\" ] ) \n",
    "# ================= 시작 ===============================\n",
    "def test() : \n",
    "    if request.method == \"GET\": # GET 방식으로 통신 시\n",
    "        data = dict(request.args)\n",
    "    else : # post 방식으로 통신 시\n",
    "        data = dict(request.form)\n",
    "\n",
    "    # 불러올 데이터(이미지)\n",
    "    image_path = f'C:/Users/smhrd1/Desktop/Web_jsp/.metadata/.plugins/org.eclipse.wst.server.core/tmp0/wtpwebapps/goming123/images/{data[\"img\"]}'\n",
    "\n",
    "    \n",
    "    # DeepFace를 사용하여 얼굴 영역 추출\n",
    "    detected_faces = DeepFace.extract_faces(image_path, detector_backend='retinaface', enforce_detection=False)\n",
    "    \n",
    "    # 모자이크를 위해 OpenCV 이미지 로드\n",
    "    image = cv2.imread(image_path)\n",
    "    \n",
    "    # 감지된 각 얼굴에 대해 모자이크 처리\n",
    "    for face in detected_faces:\n",
    "        x = face['facial_area'].get('x')\n",
    "        y = face['facial_area'].get('y')\n",
    "        w = face['facial_area'].get('w')\n",
    "        h = face['facial_area'].get('h') # 감지된 얼굴 영역의 좌표 값 추출\n",
    "\n",
    "        if x !=0 and y !=0:\n",
    "            # 좌표 값에 맞게 모자이크 진행\n",
    "            face_roi = image[y:y+h, x:x+w]\n",
    "            blur_face = cv2.GaussianBlur(face_roi, (99, 99), 30)\n",
    "            image[y:y+h, x:x+w] = blur_face\n",
    "\n",
    "    # 모자이크 된 image 파일을 mosaic_파일명 형태로 저장\n",
    "    cv2.imwrite(f'C:/Users/smhrd1/Desktop/Web_jsp/.metadata/.plugins/org.eclipse.wst.server.core/tmp0/wtpwebapps/goming123/post/mosaic_{data[\"img\"]}', image)\n",
    "\n",
    "    # 통신 종료 후 다시 업로드 서비스로 redirect\n",
    "    return redirect(f\"http://localhost:8085/goming/UpdateService?idx={data['idx']}&img=mosaic_{data['img']}\")\n",
    "\n",
    "\n",
    "# 서버 실행\n",
    "if __name__ == \"__main__\":\n",
    "    app.run(\n",
    "        host = \"192.168.219.62\", \n",
    "    port = 5050 \n",
    "    )"
   ]
  },
  {
   "cell_type": "code",
   "execution_count": null,
   "id": "7da1c432-8f8c-443b-8d0a-78746a1c3fd9",
   "metadata": {},
   "outputs": [],
   "source": []
  }
 ],
 "metadata": {
  "kernelspec": {
   "display_name": "Python 3 (ipykernel)",
   "language": "python",
   "name": "python3"
  },
  "language_info": {
   "codemirror_mode": {
    "name": "ipython",
    "version": 3
   },
   "file_extension": ".py",
   "mimetype": "text/x-python",
   "name": "python",
   "nbconvert_exporter": "python",
   "pygments_lexer": "ipython3",
   "version": "3.11.7"
  }
 },
 "nbformat": 4,
 "nbformat_minor": 5
}
